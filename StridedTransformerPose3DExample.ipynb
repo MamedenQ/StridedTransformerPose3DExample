{
  "nbformat": 4,
  "nbformat_minor": 0,
  "metadata": {
    "colab": {
      "name": "StridedTransformerPose3DExample.ipynb",
      "provenance": [],
      "collapsed_sections": [],
      "authorship_tag": "ABX9TyNijkftK9XRg4gJhYaeZA3l",
      "include_colab_link": true
    },
    "kernelspec": {
      "name": "python3",
      "display_name": "Python 3"
    },
    "language_info": {
      "name": "python"
    },
    "accelerator": "GPU",
    "gpuClass": "standard"
  },
  "cells": [
    {
      "cell_type": "markdown",
      "metadata": {
        "id": "view-in-github",
        "colab_type": "text"
      },
      "source": [
        "<a href=\"https://colab.research.google.com/github/MamedenQ/StridedTransformerPose3DExample/blob/main/StridedTransformerPose3DExample.ipynb\" target=\"_parent\"><img src=\"https://colab.research.google.com/assets/colab-badge.svg\" alt=\"Open In Colab\"/></a>"
      ]
    },
    {
      "cell_type": "markdown",
      "source": [
        "# 事前準備"
      ],
      "metadata": {
        "id": "rFyLNMXsSNlq"
      }
    },
    {
      "cell_type": "markdown",
      "source": [
        "StridedTransformer-Pose3Dを取得"
      ],
      "metadata": {
        "id": "bpiuzEFLSPpK"
      }
    },
    {
      "cell_type": "code",
      "source": [
        "!git clone https://github.com/Vegetebird/StridedTransformer-Pose3D.git\n",
        "\n",
        "%cd StridedTransformer-Pose3D"
      ],
      "metadata": {
        "id": "g4QsXChk6M0n"
      },
      "execution_count": null,
      "outputs": []
    },
    {
      "cell_type": "markdown",
      "source": [
        "必要ライブラリインストール"
      ],
      "metadata": {
        "id": "vUheo_QySRrY"
      }
    },
    {
      "cell_type": "code",
      "source": [
        "!pip install yacs\n",
        "!pip install filterpy\n",
        "!pip install einops\n",
        "!pip install matplotlib==2.2.2"
      ],
      "metadata": {
        "id": "YPh3xpx-CixF"
      },
      "execution_count": null,
      "outputs": []
    },
    {
      "cell_type": "markdown",
      "source": [
        "学習済みモデルのダウンロード"
      ],
      "metadata": {
        "id": "BF7Kqo6vBQel"
      }
    },
    {
      "cell_type": "code",
      "source": [
        "import gdown\n",
        "\n",
        "!mkdir -p checkpoint/pretrained\n",
        "gdown.download(\"https://drive.google.com/uc?id=1aDLu0SB9JnPYZOOzQsJMV9zEIHg2Uro7\", \"refine_4365.pth\", quiet=False)\n",
        "!mv refine_4365.pth checkpoint/pretrained\n",
        "\n",
        "gdown.download(\"https://drive.google.com/uc?id=1l63AI9BsNovpfTAbfAkySo9X2MOWgYZH\", \"no_refine_4365.pth\", quiet=False)\n",
        "!mv no_refine_4365.pth checkpoint/pretrained\n",
        "\n",
        "gdown.download(\"https://drive.google.com/uc?id=1gWZl1VrlLZKBf0Pfkj4hKiFxe8sHP-1C\", \"yolov3.weights\", quiet=False)\n",
        "!mv yolov3.weights demo/lib/checkpoint\n",
        "\n",
        "gdown.download(\"https://drive.google.com/uc?id=1CpyZiUIUlEjiql4rILwdBT4666S72Oq4\", \"pose_hrnet_w48_384x288.pth\", quiet=False)\n",
        "!mv pose_hrnet_w48_384x288.pth demo/lib/checkpoint"
      ],
      "metadata": {
        "id": "FZjhT8-16ZBi"
      },
      "execution_count": null,
      "outputs": []
    },
    {
      "cell_type": "markdown",
      "source": [
        "# 姿勢推定"
      ],
      "metadata": {
        "id": "-V1q51iRTttE"
      }
    },
    {
      "cell_type": "code",
      "source": [
        "!python demo/vis.py --video sample_video.mp4"
      ],
      "metadata": {
        "id": "Sk_-mTqU_0il"
      },
      "execution_count": null,
      "outputs": []
    }
  ]
}